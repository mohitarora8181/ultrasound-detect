{
  "cells": [
    {
      "cell_type": "code",
      "execution_count": 1,
      "metadata": {
        "id": "UKnPky4w4EcU"
      },
      "outputs": [
        {
          "name": "stdout",
          "output_type": "stream",
          "text": [
            "WARNING:tensorflow:From c:\\Users\\usar\\AppData\\Local\\Programs\\Python\\Python311\\Lib\\site-packages\\keras\\src\\losses.py:2976: The name tf.losses.sparse_softmax_cross_entropy is deprecated. Please use tf.compat.v1.losses.sparse_softmax_cross_entropy instead.\n",
            "\n"
          ]
        }
      ],
      "source": [
        "from flask import *\n",
        "import cv2\n",
        "import numpy as np\n",
        "import matplotlib.pyplot as plt\n",
        "from keras.models import load_model\n",
        "from keras.preprocessing import image\n",
        "import urllib.request\n",
        "from PIL import Image"
      ]
    },
    {
      "cell_type": "code",
      "execution_count": 3,
      "metadata": {
        "colab": {
          "base_uri": "https://localhost:8080/",
          "height": 462
        },
        "id": "cVAiZ1_GmX7M",
        "outputId": "c1f80ee6-badb-4d86-96cb-6427652c04e4"
      },
      "outputs": [
        {
          "name": "stdout",
          "output_type": "stream",
          "text": [
            "WARNING:tensorflow:From c:\\Users\\usar\\AppData\\Local\\Programs\\Python\\Python311\\Lib\\site-packages\\keras\\src\\backend.py:1398: The name tf.executing_eagerly_outside_functions is deprecated. Please use tf.compat.v1.executing_eagerly_outside_functions instead.\n",
            "\n",
            "WARNING:tensorflow:From c:\\Users\\usar\\AppData\\Local\\Programs\\Python\\Python311\\Lib\\site-packages\\keras\\src\\layers\\normalization\\batch_normalization.py:979: The name tf.nn.fused_batch_norm is deprecated. Please use tf.compat.v1.nn.fused_batch_norm instead.\n",
            "\n"
          ]
        }
      ],
      "source": [
        "model = load_model('final_model.h5') \n",
        "\n",
        "# Define class labels\n",
        "class_labels = ['benign', 'malignant', 'normal']\n"
      ]
    },
    {
      "cell_type": "code",
      "execution_count": 5,
      "metadata": {
        "id": "WYFHOR-94eF0"
      },
      "outputs": [
        {
          "name": "stdout",
          "output_type": "stream",
          "text": [
            " * Serving Flask app '__main__'\n",
            " * Debug mode: off\n"
          ]
        },
        {
          "name": "stderr",
          "output_type": "stream",
          "text": [
            "WARNING: This is a development server. Do not use it in a production deployment. Use a production WSGI server instead.\n",
            " * Running on http://127.0.0.1:5000\n",
            "Press CTRL+C to quit\n",
            "127.0.0.1 - - [13/Mar/2024 17:15:20] \"GET / HTTP/1.1\" 200 -\n",
            "127.0.0.1 - - [13/Mar/2024 17:15:21] \"GET /static/index.js HTTP/1.1\" 200 -\n",
            "127.0.0.1 - - [13/Mar/2024 17:15:21] \"GET /static/style.css HTTP/1.1\" 200 -\n",
            "127.0.0.1 - - [13/Mar/2024 17:15:21] \"GET /static/upload.png HTTP/1.1\" 200 -\n",
            "127.0.0.1 - - [13/Mar/2024 17:15:21] \"GET /static/bg.jpg HTTP/1.1\" 200 -\n"
          ]
        },
        {
          "name": "stdout",
          "output_type": "stream",
          "text": [
            "1/1 [==============================] - 5s 5s/step\n"
          ]
        },
        {
          "name": "stderr",
          "output_type": "stream",
          "text": [
            "127.0.0.1 - - [13/Mar/2024 17:15:39] \"POST /submit HTTP/1.1\" 200 -\n",
            "127.0.0.1 - - [13/Mar/2024 17:15:39] \"GET /static/inputs.png HTTP/1.1\" 200 -\n",
            "127.0.0.1 - - [13/Mar/2024 17:15:39] \"GET /static/style.css HTTP/1.1\" 304 -\n",
            "127.0.0.1 - - [13/Mar/2024 17:15:39] \"GET /static/bg.jpg HTTP/1.1\" 304 -\n",
            "127.0.0.1 - - [13/Mar/2024 17:15:39] \"GET /static/index.js HTTP/1.1\" 304 -\n"
          ]
        }
      ],
      "source": [
        "app = Flask(__name__,template_folder=\"templates\")\n",
        "\n",
        "dataset1 = []\n",
        "\n",
        "def upload_image(url):\n",
        "    image = cv2.imread(url)\n",
        "    image = Image.fromarray(image, 'RGB')\n",
        "    image = image.resize((224, 224))\n",
        "    image = np.array(image)\n",
        "    dataset1.append(image)\n",
        "\n",
        "# upload_image(\"/content/check.png\")\n",
        "\n",
        "def classify_image(dataset1):\n",
        "\t\tpredicted_class_label = None\n",
        "\t\tinput_image = np.expand_dims(dataset1[0], axis=0)\n",
        "\t\tprediction = model.predict(input_image)\n",
        "\t\tpredicted_class_index = np.argmax(prediction)\n",
        "\t\tpredicted_class_label = class_labels[predicted_class_index]\n",
        "\t\t# plt.imshow(input_image.squeeze())\n",
        "\t\t# plt.title(f\"Predicted Class: {predicted_class_label}\")\n",
        "\t\t# plt.axis('off')\n",
        "\t\t# plt.show()\n",
        "\t\treturn predicted_class_label\n",
        "\n",
        "\n",
        "@app.route(\"/\" , methods=['GET','POST'])\n",
        "def hme():\n",
        "  return render_template(\"index.html\")\n",
        "\n",
        "\n",
        "@app.route(\"/submit\", methods = ['GET', 'POST'])\n",
        "def get_out():\n",
        "\tif request.method == 'POST':\n",
        "\t\timg = request.files['my_image']\n",
        "\t\timg.save(\"static/inputs.png\")\n",
        "\t\tdataset1.clear()\n",
        "\t\tupload_image(\"static/inputs.png\")\n",
        "\t\tresult = classify_image(dataset1)\n",
        "\n",
        "\treturn render_template(\"index.html\" ,predict = result, img_path = \"inputs.png\")\n",
        "\n",
        "if __name__ == '__main__':\n",
        "    app.run()"
      ]
    }
  ],
  "metadata": {
    "colab": {
      "provenance": []
    },
    "kernelspec": {
      "display_name": "Python 3",
      "name": "python3"
    },
    "language_info": {
      "codemirror_mode": {
        "name": "ipython",
        "version": 3
      },
      "file_extension": ".py",
      "mimetype": "text/x-python",
      "name": "python",
      "nbconvert_exporter": "python",
      "pygments_lexer": "ipython3",
      "version": "3.11.4"
    }
  },
  "nbformat": 4,
  "nbformat_minor": 0
}
